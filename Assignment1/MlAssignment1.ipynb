{
 "cells": [
  {
   "cell_type": "code",
   "execution_count": 1,
   "metadata": {},
   "outputs": [],
   "source": [
    "# load required library\n",
    "from sklearn.datasets import load_diabetes\n",
    "import matplotlib.pyplot as plt\n",
    "import numpy as np\n",
    "\n",
    "# Assignment 1 - Linear Regression\n",
    "# Package Prereqs: scikit-learn, matplotlib, numpy\n",
    "# Implement what is asked at the TODO section.\n",
    "# !! Please notice no library versions of linear regression are allowed."
   ]
  },
  {
   "cell_type": "code",
   "execution_count": 2,
   "metadata": {},
   "outputs": [],
   "source": [
    "def load_dataset():\n",
    "    '''\n",
    "    ** Do not modify this function. **\n",
    "    Load diabetes dataset. We only use one feature and 60 instances.\n",
    "    '''\n",
    "\n",
    "    X, y = load_diabetes(return_X_y=True)\n",
    "    return X[:60, 2], y[:60]"
   ]
  },
  {
   "cell_type": "code",
   "execution_count": 3,
   "metadata": {},
   "outputs": [],
   "source": [
    "def train_test_split(X, y):\n",
    "    '''\n",
    "    Randomly split data into train and test set.\n",
    "    Two thirds of the raw data will be the train set and one third of the raw data will be the test set.\n",
    "    '''\n",
    "\n",
    "    ######################################################################################\n",
    "    # Full Mark: 10                                                                      #\n",
    "    # TODO:                                                                              #\n",
    "    # 1. shuffle the indices of data first.                                              #\n",
    "    # (Hint: use numpy.arange and numpy.random.shuffle)                                  #\n",
    "    # 2. select two thirds of the data as train set, the rest of data as test set.       #\n",
    "    ######################################################################################\n",
    "    index=np.arange(0,len(X),1)\n",
    "    np.random.shuffle(index)\n",
    "    trainSize=(2/3)*len(X)\n",
    "    X_train=X[index[0:int(trainSize)]]\n",
    "    X_test=X[index[int(trainSize):len(index)]]\n",
    "    y_train=y[index[0:int(trainSize)]]\n",
    "    y_test=y[index[int(trainSize):len(index)]]\n",
    "    #########################################################################\n",
    "    #                       END OF YOUR CODE                                #\n",
    "    #########################################################################\n",
    "    \n",
    "    return X_train, X_test, y_train, y_test"
   ]
  },
  {
   "cell_type": "code",
   "execution_count": 4,
   "metadata": {},
   "outputs": [],
   "source": [
    "def plot_data(X, y):\n",
    "    '''\n",
    "    Draw scatter plot using raw data.\n",
    "    '''\n",
    "\n",
    "    #########################################################################\n",
    "    # Full Mark: 10                                                         #\n",
    "    # TODO:                                                                 #\n",
    "    # 1. make a scatter plot of the raw data                                #\n",
    "    # 2. set title for the plot                                             #\n",
    "    # 3. set label for X,y axis                                             #\n",
    "    # e.g.,                                                                 #\n",
    "    #https://matplotlib.org/3.2.0/api/_as_gen/matplotlib.pyplot.scatter.html#\n",
    "    #########################################################################\n",
    "    plt.scatter(X,y)\n",
    "    plt.xlabel(\"BPM\")\n",
    "    plt.ylabel(\"Disease progression\")\n",
    "\n",
    "    #########################################################################\n",
    "    #                       END OF YOUR CODE                                #\n",
    "    #########################################################################\n",
    "\n",
    "    # return the plt object\n",
    "    return plt"
   ]
  },
  {
   "cell_type": "code",
   "execution_count": 5,
   "metadata": {},
   "outputs": [],
   "source": [
    "def cost_function(weights, X, y):\n",
    "    '''\n",
    "    Define the cost function.\n",
    "    '''\n",
    "\n",
    "    #########################################################################\n",
    "    # Full Mark: 25                                                         #\n",
    "    # TODO:                                                                 #\n",
    "    # Implement the Mean Square Error function:                             #\n",
    "    # https://en.wikipedia.org/wiki/Mean_squared_error#Mean                 #\n",
    "    #                                                                       #\n",
    "    # (Hint: Use numpy functions)                                           #\n",
    "    #########################################################################\n",
    "    totalsize=len(X)\n",
    "    cost=0\n",
    "    for i in range(totalsize):\n",
    "        x=(y[i]-np.matmul(weights,X[i,:]))**2\n",
    "        cost=cost+x\n",
    "    cost=(cost/totalsize)\n",
    "    \n",
    "    #########################################################################\n",
    "    #                       END OF YOUR CODE                                #\n",
    "    #########################################################################\n",
    "\n",
    "    # return cost\n",
    "    return cost"
   ]
  },
  {
   "cell_type": "code",
   "execution_count": 6,
   "metadata": {},
   "outputs": [],
   "source": [
    "def gradient_descent(weights, X, y):\n",
    "    '''\n",
    "    Update weights using gradient descent algorithm.\n",
    "    '''\n",
    "\n",
    "    # define your learning_rate and epoch\n",
    "    lr = 0.1\n",
    "    epoch = 20000\n",
    "    \n",
    "    # define cost\n",
    "    cost_list = []\n",
    "    \n",
    "    # for loop\n",
    "    for i in range(epoch):\n",
    "        #########################################################################\n",
    "        # Full Mark: 25                                                         #\n",
    "        # TODO:                                                                 #\n",
    "        # 1. update weights with learning rate lr                               #\n",
    "        # 2. append the updated cost to cost list                               #\n",
    "        # (Hint: Use numpy functions)                                           #\n",
    "        #########################################################################\n",
    "        partialDervWt=0\n",
    "        for i in range(len(X)):\n",
    "            partialDervWt=-2*X[i,:]*(y[i]-np.matmul(weights,X[i,:]))\n",
    "        weights=np.subtract(weights,((partialDervWt/len(X)*lr)))\n",
    "        tempcost=cost_function(weights,X,y)\n",
    "        cost_list.append(tempcost)\n",
    "        #########################################################################\n",
    "        #                       END OF YOUR CODE                                #\n",
    "        #########################################################################\n",
    "        \n",
    "    # return updated weights and cost list\n",
    "    return weights, cost_list"
   ]
  },
  {
   "cell_type": "code",
   "execution_count": 7,
   "metadata": {},
   "outputs": [],
   "source": [
    "def plot_iteration(cost, epoch=20000):\n",
    "    '''\n",
    "    Plot the cost for each iteration.\n",
    "    '''\n",
    "\n",
    "    #########################################################################\n",
    "    # Full Mark: 10                                                         #\n",
    "    # TODO:                                                                 #\n",
    "    # 1. plot the cost for each iteration                                   #\n",
    "    # 2. set title and labels for the plot                                  #\n",
    "    # (Hint: Use plt.plot function to plot and range(n))                    #\n",
    "    #########################################################################\n",
    "    plt.plot(np.arange(0,epoch,1),cost)\n",
    "    \n",
    "    #########################################################################\n",
    "    #                       END OF YOUR CODE                                #\n",
    "    #########################################################################\n",
    "    \n",
    "    # show plot\n",
    "    plt.show()"
   ]
  },
  {
   "cell_type": "code",
   "execution_count": 8,
   "metadata": {},
   "outputs": [],
   "source": [
    "def plot_final(weights, X, y):\n",
    "    '''\n",
    "    Draw the simple linear regression model.\n",
    "    '''\n",
    "\n",
    "    # draw the raw data first\n",
    "    model_plot = plot_data(X, y)\n",
    "\n",
    "    #########################################################################\n",
    "    # Full Mark: 10                                                         #\n",
    "    # TODO:                                                                 #\n",
    "    # 1. create a series of x coordinates in proper range.                  #\n",
    "    # (Hint: use numpy.arange)                                              #\n",
    "    # 2. calculate y coordinates:                                           #\n",
    "    #                         y = w * X + b                                 #\n",
    "    # 3. plot the curve and set title                                       #\n",
    "    #########################################################################\n",
    "    xNew=np.arange(-1,1,0.001)\n",
    "    ypred=[]\n",
    "    for i in range(len(xNew)):\n",
    "        temp=weights[0] + weights[1]*xNew[i]\n",
    "        ypred.append(temp)\n",
    "    ypred=np.array(ypred)\n",
    "    plt.plot(xNew,ypred)\n",
    "\n",
    "    #########################################################################\n",
    "    #                       END OF YOUR CODE                                #\n",
    "    #########################################################################\n",
    "\n",
    "    # show plot\n",
    "    model_plot.show()"
   ]
  },
  {
   "cell_type": "code",
   "execution_count": 9,
   "metadata": {},
   "outputs": [],
   "source": [
    "def print_test_error(weights, X, y_true):\n",
    "    '''\n",
    "    Use optimized weights to predict y, and print test error.\n",
    "    '''\n",
    "\n",
    "    #########################################################################\n",
    "    # Full Mark: 10                                                         #\n",
    "    # TODO:                                                                 #\n",
    "    # 1. predict the target value y of X:                                   #\n",
    "    #                            y = w * X + b                              #\n",
    "    # 2. calculate the Mean Square Error using true y and predicted y       #\n",
    "    #########################################################################\n",
    "    error=0\n",
    "    for i in range(len(X)):\n",
    "        predict=weights[0] + weights[1]*X[i]\n",
    "        error=error+(y_true[i]-predict)**2\n",
    "    #########################################################################\n",
    "    #                       END OF YOUR CODE                                #\n",
    "    #########################################################################\n",
    "    error=error/len(X)\n",
    "    # print test error\n",
    "    print(\"Test error: %.4f\" % error)\n",
    "    return error\n"
   ]
  },
  {
   "cell_type": "code",
   "execution_count": 10,
   "metadata": {},
   "outputs": [
    {
     "data": {
      "image/png": "[encoded data removed]",
      "text/plain": [
       "<Figure size 432x288 with 1 Axes>"
      ]
     },
     "metadata": {
      "needs_background": "light"
     },
     "output_type": "display_data"
    },
    {
     "name": "stdout",
     "output_type": "stream",
     "text": [
      "Initial cost: 25038.9538\n"
     ]
    },
    {
     "data": {
      "image/png": "[encoded data removed]",
      "text/plain": [
       "<Figure size 432x288 with 1 Axes>"
      ]
     },
     "metadata": {
      "needs_background": "light"
     },
     "output_type": "display_data"
    },
    {
     "data": {
      "image/png": "[encoded data removed]",
      "text/plain": [
       "<Figure size 432x288 with 1 Axes>"
      ]
     },
     "metadata": {
      "needs_background": "light"
     },
     "output_type": "display_data"
    },
    {
     "name": "stdout",
     "output_type": "stream",
     "text": [
      "Test error: 4463.9805\n"
     ]
    }
   ],
   "source": [
    "def main():\n",
    "    '''\n",
    "    ** Do not modify this function. **\n",
    "    '''\n",
    "\n",
    "    # Plot raw data points\n",
    "    X, y = load_dataset()\n",
    "    plot = plot_data(X, y)\n",
    "    plot.show()\n",
    "\n",
    "    # Split train and test set\n",
    "    X = np.c_[np.ones(X.size), X]\n",
    "    X_train, X_test, y_train, y_test = train_test_split(X, y)\n",
    "\n",
    "    # initialize weight\n",
    "    weights = np.ones(X_train.shape[1])\n",
    "\n",
    "    # calculate training cost\n",
    "    init_cost = cost_function(weights, X_train, y_train)\n",
    "    print(\"Initial cost: %.4f\" % init_cost)\n",
    "\n",
    "    # gradient descent to find the optimal fit\n",
    "    weights, cost_list = gradient_descent(weights, X_train, y_train)\n",
    "\n",
    "    # draw the cost change for iterations\n",
    "    plot_iteration(cost_list)\n",
    "\n",
    "    # draw the final linear model\n",
    "    # it is shown as a red line, you can change the color anyway\n",
    "    plot_final(weights, X_train[:, 1], y_train)\n",
    "\n",
    "    # Print test error\n",
    "    print_test_error(weights, X_test[:, 1], y_test)\n",
    "\n",
    "\n",
    "if __name__ == '__main__':\n",
    "    main()"
   ]
  },
  {
   "cell_type": "code",
   "execution_count": null,
   "metadata": {},
   "outputs": [],
   "source": []
  },
  {
   "cell_type": "code",
   "execution_count": null,
   "metadata": {},
   "outputs": [],
   "source": []
  }
 ],
 "metadata": {
  "kernelspec": {
   "display_name": "Python 3",
   "language": "python",
   "name": "python3"
  },
  "language_info": {
   "codemirror_mode": {
    "name": "ipython",
    "version": 3
   },
   "file_extension": ".py",
   "mimetype": "text/x-python",
   "name": "python",
   "nbconvert_exporter": "python",
   "pygments_lexer": "ipython3",
   "version": "3.7.4"
  }
 },
 "nbformat": 4,
 "nbformat_minor": 2
}
